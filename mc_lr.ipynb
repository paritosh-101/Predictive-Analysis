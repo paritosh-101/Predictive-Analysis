{
 "cells": [
  {
   "cell_type": "code",
   "execution_count": 1,
   "metadata": {},
   "outputs": [],
   "source": [
    "import numpy as np\n",
    "import matplotlib.pyplot as plt\n",
    "%matplotlib inline"
   ]
  },
  {
   "cell_type": "code",
   "execution_count": 2,
   "metadata": {},
   "outputs": [],
   "source": [
    "# y = a + bx + e\n",
    "\n",
    "#assign values to parameters\n",
    "\n",
    "a = 1\n",
    "b = 3"
   ]
  },
  {
   "cell_type": "code",
   "execution_count": 3,
   "metadata": {},
   "outputs": [],
   "source": [
    "#sample size\n",
    "\n",
    "n = 100\n",
    "\n",
    "#replications\n",
    "\n",
    "m = 5000"
   ]
  },
  {
   "cell_type": "code",
   "execution_count": 4,
   "metadata": {},
   "outputs": [
    {
     "name": "stdout",
     "output_type": "stream",
     "text": [
      "[[ 6.49738145 -2.44702565 -2.11268701 -4.29187449  3.46163052 -9.20615479\n",
      "   6.97924706 -3.0448276   1.27615638 -0.9974815   5.84843175 -8.24056284\n",
      "  -1.28966882 -1.53621742  4.53507777 -4.39956507 -0.68971283 -3.51143367\n",
      "   0.16885499  2.33126085 -4.40247671  4.57889484  3.60636288  2.00997736\n",
      "   3.6034238  -2.73491144 -0.4915609  -3.74307774 -1.07155232  2.12142187\n",
      "  -2.76664301 -1.58701411 -2.7486908  -3.38082257 -2.68498452 -0.0506584\n",
      "  -4.46924139  0.93766279  6.63920871  2.96817664 -0.76734221 -3.55051586\n",
      "  -2.98863318  6.7698184   0.20323102 -2.54798259  0.76366194  8.40102055\n",
      "   0.48063581  2.46881244  1.20068128 -1.40899939 -4.57007279 -1.39737089\n",
      "  -0.83557693  2.34649276  3.35593366  3.72440833  1.1423493   3.54056466\n",
      "  -3.01759176  5.01147262  2.05171928 -1.19237134  1.95407259 -0.30228685\n",
      "   4.52651755  6.07926727  8.74230163 -5.58598534 -5.77645522 -2.01786345\n",
      "   0.64014828  3.50467568  1.26253979 -8.08880486 -1.22481605  3.31189857\n",
      "   0.92037894  3.04804472 -0.88931257 -0.80303228  0.74624556  1.64020659\n",
      "   0.79319888  0.47603458 -2.68264915  1.51025515  0.48728508  4.51793563\n",
      "   4.79567152  0.74062567 -1.5011398  -2.55492163  1.69397742  0.30936027\n",
      "  -1.3754147   0.17438743 -2.48000338  2.79212814]]\n"
     ]
    }
   ],
   "source": [
    "#assign values to regressors\n",
    "\n",
    "np.random.seed(1)\n",
    "x = 4 * np.random.randn(1,n)\n",
    "\n",
    "print(x)"
   ]
  },
  {
   "cell_type": "code",
   "execution_count": 5,
   "metadata": {},
   "outputs": [],
   "source": [
    "#assign independent values to error vector\n",
    "\n",
    "#e = np.random.randn(1,n)\n",
    "\n",
    "#print(e)"
   ]
  },
  {
   "cell_type": "code",
   "execution_count": 6,
   "metadata": {},
   "outputs": [],
   "source": [
    "#compute y sample from LR equation\n",
    "\n",
    "#y = a + np.multiply(b,x) + e\n",
    "\n",
    "#print(y)"
   ]
  },
  {
   "cell_type": "code",
   "execution_count": 7,
   "metadata": {},
   "outputs": [],
   "source": [
    "#sig_x = np.sum(x)\n",
    "#sig_y = np.sum(y)\n",
    "#sig_x2 = np.sum(x*x)\n",
    "#sig_xy = np.sum(x*y)\n",
    "\n",
    "#print(sig_x,sig_y,sig_x2,sig_xy)"
   ]
  },
  {
   "cell_type": "code",
   "execution_count": 8,
   "metadata": {},
   "outputs": [],
   "source": [
    "#calculate parameters using values of x and y\n",
    "\n",
    "#a2 = ((sig_y * sig_x2) - (sig_x * sig_xy)) / (n*(sig_x2) - (np.square(sig_x)))\n",
    "\n",
    "#b2 = (n*(sig_xy) - (sig_x * sig_y)) / (n*(sig_x2) - (np.square(sig_x)))\n",
    "\n",
    "#print(a2,b2)"
   ]
  },
  {
   "cell_type": "code",
   "execution_count": 9,
   "metadata": {},
   "outputs": [],
   "source": [
    "a2 = []\n",
    "b2 = []\n",
    "\n",
    "for i in range(m):\n",
    "    \n",
    "    e = np.random.randn(1,n)\n",
    "    y = a + np.multiply(b,x) + e\n",
    "    \n",
    "    sig_x = np.sum(x)\n",
    "    sig_y = np.sum(y)\n",
    "    sig_x2 = np.sum(x*x)\n",
    "    sig_xy = np.sum(x*y)\n",
    "    \n",
    "    j = ((sig_y * sig_x2) - (sig_x * sig_xy)) / (n*(sig_x2) - (np.square(sig_x)))\n",
    "    k = (n*(sig_xy) - (sig_x * sig_y)) / (n*(sig_x2) - (np.square(sig_x)))\n",
    "    \n",
    "    a2.append(j)\n",
    "    b2.append(k)"
   ]
  },
  {
   "cell_type": "code",
   "execution_count": 10,
   "metadata": {},
   "outputs": [
    {
     "data": {
      "image/png": "[encoded data removed]",
      "text/plain": [
       "<Figure size 432x288 with 1 Axes>"
      ]
     },
     "metadata": {
      "needs_background": "light"
     },
     "output_type": "display_data"
    },
    {
     "name": "stdout",
     "output_type": "stream",
     "text": [
      "1.003424 1.001097 1.366985 0.597768 0.101042\n"
     ]
    }
   ],
   "source": [
    "plt.hist(a2, density=True, bins=30, ec='white')\n",
    "plt.title(\"alpha (a): sample size (n) = 100, replications (m) = 5000\")\n",
    "plt.show()\n",
    "\n",
    "print(round(np.median(a2),6), round(np.mean(a2),6), round(np.max(a2),6), round(np.min(a2),6), round(np.std(a2),6))"
   ]
  },
  {
   "cell_type": "code",
   "execution_count": 11,
   "metadata": {},
   "outputs": [
    {
     "data": {
      "image/png": "[encoded data removed]",
      "text/plain": [
       "<Figure size 432x288 with 1 Axes>"
      ]
     },
     "metadata": {
      "needs_background": "light"
     },
     "output_type": "display_data"
    },
    {
     "name": "stdout",
     "output_type": "stream",
     "text": [
      "3.000321 2.999882 3.11621 2.894256 0.028061\n"
     ]
    }
   ],
   "source": [
    "plt.hist(b2, density=True, bins=30, ec='white')\n",
    "plt.title(\"beta (b): sample size (n) = 100, replications (m) = 5000\")\n",
    "plt.show()\n",
    "\n",
    "print(round(np.median(b2),6), round(np.mean(b2),6), round(np.max(b2),6), round(np.min(b2),6), round(np.std(b2),6))"
   ]
  },
  {
   "cell_type": "code",
   "execution_count": null,
   "metadata": {},
   "outputs": [],
   "source": []
  }
 ],
 "metadata": {
  "kernelspec": {
   "display_name": "Python 3",
   "language": "python",
   "name": "python3"
  },
  "language_info": {
   "codemirror_mode": {
    "name": "ipython",
    "version": 3
   },
   "file_extension": ".py",
   "mimetype": "text/x-python",
   "name": "python",
   "nbconvert_exporter": "python",
   "pygments_lexer": "ipython3",
   "version": "3.7.6"
  }
 },
 "nbformat": 4,
 "nbformat_minor": 4
}
